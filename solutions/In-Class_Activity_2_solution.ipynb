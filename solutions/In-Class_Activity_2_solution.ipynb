{
 "cells": [
  {
   "cell_type": "markdown",
   "id": "8041e29a",
   "metadata": {},
   "source": [
    "# 1"
   ]
  },
  {
   "cell_type": "code",
   "execution_count": 3,
   "id": "7a99e8e5",
   "metadata": {},
   "outputs": [],
   "source": [
    "#Load the dataset\n",
    "import pandas as pd\n",
    "\n",
    "df = pd.read_csv(\"Wage.csv\")\n"
   ]
  },
  {
   "cell_type": "markdown",
   "id": "57deaf00",
   "metadata": {},
   "source": [
    "# 2"
   ]
  },
  {
   "cell_type": "code",
   "execution_count": 4,
   "id": "d4986e64",
   "metadata": {},
   "outputs": [
    {
     "name": "stdout",
     "output_type": "stream",
     "text": [
      "First 10 rows:\n",
      "   year  age            maritl      race        education              region  \\\n",
      "0  2006   18  1. Never Married  1. White     1. < HS Grad  2. Middle Atlantic   \n",
      "1  2004   24  1. Never Married  1. White  4. College Grad  2. Middle Atlantic   \n",
      "2  2003   45        2. Married  1. White  3. Some College  2. Middle Atlantic   \n",
      "3  2003   43        2. Married  3. Asian  4. College Grad  2. Middle Atlantic   \n",
      "4  2005   50       4. Divorced  1. White       2. HS Grad  2. Middle Atlantic   \n",
      "5  2008   54        2. Married  1. White  4. College Grad  2. Middle Atlantic   \n",
      "6  2009   44        2. Married  4. Other  3. Some College  2. Middle Atlantic   \n",
      "7  2008   30  1. Never Married  3. Asian  3. Some College  2. Middle Atlantic   \n",
      "8  2006   41  1. Never Married  2. Black  3. Some College  2. Middle Atlantic   \n",
      "9  2004   52        2. Married  1. White       2. HS Grad  2. Middle Atlantic   \n",
      "\n",
      "         jobclass          health health_ins   logwage        wage  \n",
      "0   1. Industrial       1. <=Good      2. No  4.318063   75.043154  \n",
      "1  2. Information  2. >=Very Good      2. No  4.255273   70.476020  \n",
      "2   1. Industrial       1. <=Good     1. Yes  4.875061  130.982177  \n",
      "3  2. Information  2. >=Very Good     1. Yes  5.041393  154.685293  \n",
      "4  2. Information       1. <=Good     1. Yes  4.318063   75.043154  \n",
      "5  2. Information  2. >=Very Good     1. Yes  4.845098  127.115744  \n",
      "6   1. Industrial  2. >=Very Good     1. Yes  5.133021  169.528538  \n",
      "7  2. Information       1. <=Good     1. Yes  4.716003  111.720849  \n",
      "8  2. Information  2. >=Very Good     1. Yes  4.778151  118.884359  \n",
      "9  2. Information  2. >=Very Good     1. Yes  4.857332  128.680488  \n"
     ]
    }
   ],
   "source": [
    "#Display the first 10 rows\n",
    "\n",
    "print(\"First 10 rows:\")\n",
    "print(df.head(10))\n",
    "\n"
   ]
  },
  {
   "cell_type": "markdown",
   "id": "dcca07af",
   "metadata": {},
   "source": [
    "# 3"
   ]
  },
  {
   "cell_type": "code",
   "execution_count": 6,
   "id": "2155a13f",
   "metadata": {},
   "outputs": [
    {
     "name": "stdout",
     "output_type": "stream",
     "text": [
      "Last 10 rows:\n",
      "      year  age            maritl      race        education  \\\n",
      "2990  2009   50        2. Married  2. Black       2. HS Grad   \n",
      "2991  2003   26  1. Never Married  2. Black  3. Some College   \n",
      "2992  2007   35        2. Married  1. White     1. < HS Grad   \n",
      "2993  2006   31        2. Married  1. White       2. HS Grad   \n",
      "2994  2009   31        2. Married  1. White  4. College Grad   \n",
      "2995  2008   44        2. Married  1. White  3. Some College   \n",
      "2996  2007   30        2. Married  1. White       2. HS Grad   \n",
      "2997  2005   27        2. Married  2. Black     1. < HS Grad   \n",
      "2998  2005   27  1. Never Married  1. White  3. Some College   \n",
      "2999  2009   55      5. Separated  1. White       2. HS Grad   \n",
      "\n",
      "                  region        jobclass          health health_ins   logwage  \\\n",
      "2990  2. Middle Atlantic   1. Industrial  2. >=Very Good      2. No  4.886491   \n",
      "2991  2. Middle Atlantic   1. Industrial  2. >=Very Good      2. No  4.778151   \n",
      "2992  2. Middle Atlantic   1. Industrial       1. <=Good      2. No  4.698970   \n",
      "2993  2. Middle Atlantic  2. Information  2. >=Very Good     1. Yes  4.633468   \n",
      "2994  2. Middle Atlantic  2. Information  2. >=Very Good     1. Yes  4.893207   \n",
      "2995  2. Middle Atlantic   1. Industrial  2. >=Very Good     1. Yes  5.041393   \n",
      "2996  2. Middle Atlantic   1. Industrial  2. >=Very Good      2. No  4.602060   \n",
      "2997  2. Middle Atlantic   1. Industrial       1. <=Good      2. No  4.193125   \n",
      "2998  2. Middle Atlantic   1. Industrial  2. >=Very Good     1. Yes  4.477121   \n",
      "2999  2. Middle Atlantic   1. Industrial       1. <=Good     1. Yes  4.505150   \n",
      "\n",
      "            wage  \n",
      "2990  132.487821  \n",
      "2991  118.884359  \n",
      "2992  109.833986  \n",
      "2993  102.870247  \n",
      "2994  133.380608  \n",
      "2995  154.685293  \n",
      "2996   99.689464  \n",
      "2997   66.229408  \n",
      "2998   87.981033  \n",
      "2999   90.481913  \n"
     ]
    }
   ],
   "source": [
    "#Display the last 10 rows\n",
    "\n",
    "print(\"Last 10 rows:\")\n",
    "print(df.tail(10))\n"
   ]
  },
  {
   "cell_type": "markdown",
   "id": "7a3dc7eb",
   "metadata": {},
   "source": [
    "# 4"
   ]
  },
  {
   "cell_type": "code",
   "execution_count": 7,
   "id": "7560e9d3",
   "metadata": {},
   "outputs": [
    {
     "name": "stdout",
     "output_type": "stream",
     "text": [
      "\n",
      "Number of rows in the DataFrame: 3000\n"
     ]
    }
   ],
   "source": [
    "# How many rows are in the DataFrame\n",
    "\n",
    "print(\"\\nNumber of rows in the DataFrame:\", len(df))\n"
   ]
  },
  {
   "cell_type": "markdown",
   "id": "d8adbde8",
   "metadata": {},
   "source": [
    "# 5"
   ]
  },
  {
   "cell_type": "code",
   "execution_count": 9,
   "id": "8c34e07e",
   "metadata": {},
   "outputs": [
    {
     "name": "stdout",
     "output_type": "stream",
     "text": [
      "DataFrame Metadata:\n",
      "<class 'pandas.core.frame.DataFrame'>\n",
      "RangeIndex: 3000 entries, 0 to 2999\n",
      "Data columns (total 11 columns):\n",
      " #   Column      Non-Null Count  Dtype  \n",
      "---  ------      --------------  -----  \n",
      " 0   year        3000 non-null   int64  \n",
      " 1   age         3000 non-null   int64  \n",
      " 2   maritl      3000 non-null   object \n",
      " 3   race        3000 non-null   object \n",
      " 4   education   3000 non-null   object \n",
      " 5   region      3000 non-null   object \n",
      " 6   jobclass    3000 non-null   object \n",
      " 7   health      3000 non-null   object \n",
      " 8   health_ins  3000 non-null   object \n",
      " 9   logwage     3000 non-null   float64\n",
      " 10  wage        3000 non-null   float64\n",
      "dtypes: float64(2), int64(2), object(7)\n",
      "memory usage: 257.9+ KB\n",
      "None\n"
     ]
    }
   ],
   "source": [
    "# Display metadata for the DataFrame\n",
    "\n",
    "print(\"DataFrame Metadata:\")\n",
    "print(df.info())\n"
   ]
  },
  {
   "cell_type": "markdown",
   "id": "c308954e",
   "metadata": {},
   "source": [
    "# 6"
   ]
  },
  {
   "cell_type": "code",
   "execution_count": 12,
   "id": "c4ae2f16",
   "metadata": {},
   "outputs": [
    {
     "name": "stdout",
     "output_type": "stream",
     "text": [
      "Data types for age and race columns:\n",
      "age      int64\n",
      "race    object\n",
      "dtype: object\n"
     ]
    }
   ],
   "source": [
    "# Display the data types for two columns from the dataset\n",
    "\n",
    "print(\"Data types for age and race columns:\")\n",
    "print(df[['age', 'race']].dtypes)  \n"
   ]
  },
  {
   "cell_type": "markdown",
   "id": "cdc04c80",
   "metadata": {},
   "source": [
    "# 7"
   ]
  },
  {
   "cell_type": "code",
   "execution_count": 13,
   "id": "ee7bc509",
   "metadata": {},
   "outputs": [
    {
     "name": "stdout",
     "output_type": "stream",
     "text": [
      "Column names:\n",
      "Index(['year', 'age', 'maritl', 'race', 'education', 'region', 'jobclass',\n",
      "       'health', 'health_ins', 'logwage', 'wage'],\n",
      "      dtype='object')\n"
     ]
    }
   ],
   "source": [
    "# Display the column names from the dataset\n",
    "\n",
    "print(\"Column names:\")\n",
    "print(df.columns)\n"
   ]
  },
  {
   "cell_type": "markdown",
   "id": "17b699f5",
   "metadata": {},
   "source": [
    "# 8"
   ]
  },
  {
   "cell_type": "code",
   "execution_count": 15,
   "id": "74c5ae38",
   "metadata": {},
   "outputs": [
    {
     "name": "stdout",
     "output_type": "stream",
     "text": [
      "DataFrame Index:\n",
      "RangeIndex(start=0, stop=3000, step=1)\n"
     ]
    }
   ],
   "source": [
    "# Display the DataFrame’s index\n",
    "\n",
    "print(\"DataFrame Index:\")\n",
    "print(df.index)\n",
    "\n"
   ]
  },
  {
   "cell_type": "markdown",
   "id": "c9411741",
   "metadata": {},
   "source": [
    "# 9"
   ]
  },
  {
   "cell_type": "code",
   "execution_count": 17,
   "id": "ee65444d",
   "metadata": {},
   "outputs": [
    {
     "name": "stdout",
     "output_type": "stream",
     "text": [
      "Number of individual elements in the DataFrame: 33000\n"
     ]
    }
   ],
   "source": [
    "# How many individual elements are in the DataFrame?\n",
    "\n",
    "print(\"Number of individual elements in the DataFrame:\", df.size)\n"
   ]
  },
  {
   "cell_type": "markdown",
   "id": "8d4c6359",
   "metadata": {},
   "source": [
    "# 10"
   ]
  },
  {
   "cell_type": "code",
   "execution_count": 19,
   "id": "88aa9d58",
   "metadata": {},
   "outputs": [
    {
     "name": "stdout",
     "output_type": "stream",
     "text": [
      "Number of columns and rows: (3000, 11)\n"
     ]
    }
   ],
   "source": [
    "# How many columns and rows are there?\n",
    "\n",
    "print(\"Number of columns and rows:\", df.shape)\n",
    "\n"
   ]
  },
  {
   "cell_type": "markdown",
   "id": "8d9eab23",
   "metadata": {},
   "source": [
    "# 11"
   ]
  },
  {
   "cell_type": "code",
   "execution_count": 23,
   "id": "009a1fb3",
   "metadata": {},
   "outputs": [
    {
     "name": "stdout",
     "output_type": "stream",
     "text": [
      "Descriptive statistics for wage column:\n",
      "count    3000.000000\n",
      "mean      111.703608\n",
      "std        41.728595\n",
      "min        20.085537\n",
      "25%        85.383940\n",
      "50%       104.921507\n",
      "75%       128.680488\n",
      "max       318.342430\n",
      "Name: wage, dtype: float64\n",
      "\n",
      "Descriptive statistics for age column:\n",
      "count    3000.000000\n",
      "mean       42.414667\n",
      "std        11.542406\n",
      "min        18.000000\n",
      "25%        33.750000\n",
      "50%        42.000000\n",
      "75%        51.000000\n",
      "max        80.000000\n",
      "Name: age, dtype: float64\n"
     ]
    }
   ],
   "source": [
    "# Display descriptive statistics for the wage column, and the age column\n",
    "\n",
    "print(\"Descriptive statistics for wage column:\")\n",
    "print(df['wage'].describe())\n",
    "\n",
    "print(\"\\nDescriptive statistics for age column:\")\n",
    "print(df['age'].describe())\n",
    "\n"
   ]
  },
  {
   "cell_type": "markdown",
   "id": "6953bf28",
   "metadata": {},
   "source": [
    "# 12"
   ]
  },
  {
   "cell_type": "code",
   "execution_count": 24,
   "id": "77439162",
   "metadata": {},
   "outputs": [
    {
     "name": "stdout",
     "output_type": "stream",
     "text": [
      "Descriptive statistics by race:\n",
      "            wage                                                           \\\n",
      "           count        mean        std        min        25%         50%   \n",
      "race                                                                        \n",
      "1. White  2480.0  112.563666  41.733830  20.085537  86.695155  106.348256   \n",
      "2. Black   293.0  101.601177  37.162486  23.274704  81.283253   94.072715   \n",
      "3. Asian   190.0  120.288288  46.422514  34.607418  87.981033  115.375039   \n",
      "4. Other    37.0   89.973326  29.153530  38.223583  71.319639   81.283253   \n",
      "\n",
      "                                     age                                     \\\n",
      "                 75%         max   count       mean        std   min    25%   \n",
      "race                                                                          \n",
      "1. White  130.042934  314.329336  2480.0  42.394758  11.365655  18.0  34.00   \n",
      "2. Black  117.146817  318.342430   293.0  43.563140  13.012913  18.0  33.00   \n",
      "3. Asian  144.828129  299.262977   190.0  41.821053  11.218823  22.0  32.25   \n",
      "4. Other  104.921507  169.528538    37.0  37.702703  11.553895  21.0  28.00   \n",
      "\n",
      "                            \n",
      "           50%   75%   max  \n",
      "race                        \n",
      "1. White  42.0  51.0  80.0  \n",
      "2. Black  44.0  52.0  75.0  \n",
      "3. Asian  40.0  50.0  76.0  \n",
      "4. Other  39.0  47.0  65.0  \n"
     ]
    }
   ],
   "source": [
    "# Display descriptive statistics for the wage and age columns, by each race\n",
    "\n",
    "print(\"Descriptive statistics by race:\")\n",
    "print(df.groupby('race')[['wage', 'age']].describe())\n",
    "\n"
   ]
  },
  {
   "cell_type": "markdown",
   "id": "a4431623",
   "metadata": {},
   "source": [
    "# 13"
   ]
  },
  {
   "cell_type": "code",
   "execution_count": 25,
   "id": "86f8ae3d",
   "metadata": {},
   "outputs": [
    {
     "name": "stdout",
     "output_type": "stream",
     "text": [
      "Mean and median values of wage:\n",
      "Mean: 111.70360820174345\n",
      "Median: 104.921506533664\n"
     ]
    }
   ],
   "source": [
    "# What do the mean and median values of wage tell us about the data?\n",
    "\n",
    "print(\"Mean and median values of wage:\")\n",
    "print(\"Mean:\", df['wage'].mean())\n",
    "print(\"Median:\", df['wage'].median())\n"
   ]
  },
  {
   "cell_type": "markdown",
   "id": "93659b1e",
   "metadata": {},
   "source": [
    "# 14"
   ]
  },
  {
   "cell_type": "code",
   "execution_count": 27,
   "id": "6d3dbf8a",
   "metadata": {},
   "outputs": [
    {
     "name": "stdout",
     "output_type": "stream",
     "text": [
      "Age and wage columns:\n",
      "      age        wage\n",
      "0      18   75.043154\n",
      "1      24   70.476020\n",
      "2      45  130.982177\n",
      "3      43  154.685293\n",
      "4      50   75.043154\n",
      "...   ...         ...\n",
      "2995   44  154.685293\n",
      "2996   30   99.689464\n",
      "2997   27   66.229408\n",
      "2998   27   87.981033\n",
      "2999   55   90.481913\n",
      "\n",
      "[3000 rows x 2 columns]\n"
     ]
    }
   ],
   "source": [
    "# Display the age and wage columns only\n",
    "\n",
    "print(\"Age and wage columns:\")\n",
    "print(df[['age', 'wage']])\n"
   ]
  },
  {
   "cell_type": "markdown",
   "id": "8d5bc435",
   "metadata": {},
   "source": [
    "# 15"
   ]
  },
  {
   "cell_type": "code",
   "execution_count": 28,
   "id": "c76ec5e8",
   "metadata": {},
   "outputs": [
    {
     "name": "stdout",
     "output_type": "stream",
     "text": [
      "Correlation between age and wage:\n",
      "           age      wage\n",
      "age   1.000000  0.195637\n",
      "wage  0.195637  1.000000\n"
     ]
    }
   ],
   "source": [
    "# Are these two columns correlated?\n",
    "\n",
    "print(\"Correlation between age and wage:\")\n",
    "print(df[['age', 'wage']].corr())\n",
    "\n"
   ]
  },
  {
   "cell_type": "markdown",
   "id": "4e0520e3",
   "metadata": {},
   "source": [
    "# 16"
   ]
  },
  {
   "cell_type": "code",
   "execution_count": 29,
   "id": "6b37dff3",
   "metadata": {},
   "outputs": [
    {
     "name": "stdout",
     "output_type": "stream",
     "text": [
      "Top 10 salaries:\n",
      "      year  age            maritl      race           education  \\\n",
      "206   2007   63        2. Married  2. Black  5. Advanced Degree   \n",
      "1229  2007   46        2. Married  2. Black          2. HS Grad   \n",
      "503   2003   38  1. Never Married  1. White     3. Some College   \n",
      "1293  2009   38        2. Married  2. Black          2. HS Grad   \n",
      "1112  2006   34  1. Never Married  2. Black  5. Advanced Degree   \n",
      "2712  2006   58        2. Married  2. Black     3. Some College   \n",
      "2893  2003   40        2. Married  3. Asian  5. Advanced Degree   \n",
      "2925  2005   39        2. Married  1. White          2. HS Grad   \n",
      "489   2007   41        2. Married  1. White  5. Advanced Degree   \n",
      "347   2007   43        2. Married  1. White  5. Advanced Degree   \n",
      "\n",
      "                  region        jobclass          health health_ins   logwage  \\\n",
      "206   2. Middle Atlantic  2. Information  2. >=Very Good     1. Yes  5.763128   \n",
      "1229  2. Middle Atlantic  2. Information  2. >=Very Good     1. Yes  5.763128   \n",
      "503   2. Middle Atlantic  2. Information  2. >=Very Good     1. Yes  5.750441   \n",
      "1293  2. Middle Atlantic  2. Information       1. <=Good     1. Yes  5.742793   \n",
      "1112  2. Middle Atlantic  2. Information  2. >=Very Good     1. Yes  5.735190   \n",
      "2712  2. Middle Atlantic  2. Information       1. <=Good      2. No  5.735190   \n",
      "2893  2. Middle Atlantic  2. Information  2. >=Very Good     1. Yes  5.701323   \n",
      "2925  2. Middle Atlantic   1. Industrial  2. >=Very Good      2. No  5.690330   \n",
      "489   2. Middle Atlantic  2. Information  2. >=Very Good     1. Yes  5.650820   \n",
      "347   2. Middle Atlantic  2. Information  2. >=Very Good     1. Yes  5.641006   \n",
      "\n",
      "            wage  \n",
      "206   318.342430  \n",
      "1229  318.342430  \n",
      "503   314.329336  \n",
      "1293  311.934569  \n",
      "1112  309.571771  \n",
      "2712  309.571771  \n",
      "2893  299.262977  \n",
      "2925  295.991250  \n",
      "489   284.524741  \n",
      "347   281.745971  \n"
     ]
    }
   ],
   "source": [
    "# Display the top 10 salaries\n",
    "\n",
    "print(\"Top 10 salaries:\")\n",
    "print(df.nlargest(10, 'wage'))\n"
   ]
  },
  {
   "cell_type": "markdown",
   "id": "8842536a",
   "metadata": {},
   "source": [
    "# 17"
   ]
  },
  {
   "cell_type": "code",
   "execution_count": 30,
   "id": "463b9054",
   "metadata": {},
   "outputs": [
    {
     "name": "stdout",
     "output_type": "stream",
     "text": [
      "Counts of each race:\n",
      "1. White    2480\n",
      "2. Black     293\n",
      "3. Asian     190\n",
      "4. Other      37\n",
      "Name: race, dtype: int64\n"
     ]
    }
   ],
   "source": [
    "# Display the counts of each race in the dataset\n",
    "\n",
    "print(\"Counts of each race:\")\n",
    "print(df['race'].value_counts())\n"
   ]
  },
  {
   "cell_type": "markdown",
   "id": "292097a2",
   "metadata": {},
   "source": [
    "# 18"
   ]
  },
  {
   "cell_type": "code",
   "execution_count": 31,
   "id": "c470abb3",
   "metadata": {},
   "outputs": [
    {
     "name": "stdout",
     "output_type": "stream",
     "text": [
      "Proportion of each race:\n",
      "1. White    0.826667\n",
      "2. Black    0.097667\n",
      "3. Asian    0.063333\n",
      "4. Other    0.012333\n",
      "Name: race, dtype: float64\n"
     ]
    }
   ],
   "source": [
    "# Display the proportion of each race in the dataset\n",
    "\n",
    "print(\"Proportion of each race:\")\n",
    "print(df['race'].value_counts(normalize=True))\n"
   ]
  },
  {
   "cell_type": "markdown",
   "id": "cf0726a3",
   "metadata": {},
   "source": [
    "# 19"
   ]
  },
  {
   "cell_type": "code",
   "execution_count": 32,
   "id": "793aa7ce",
   "metadata": {},
   "outputs": [
    {
     "data": {
      "text/plain": [
       "<Axes: title={'center': 'Regional Proportionality'}>"
      ]
     },
     "execution_count": 32,
     "metadata": {},
     "output_type": "execute_result"
    },
    {
     "data": {
      "image/png": "[encoded data removed]",
      "text/plain": [
       "<Figure size 640x480 with 1 Axes>"
      ]
     },
     "metadata": {},
     "output_type": "display_data"
    }
   ],
   "source": [
    "# Create a bar plot of regional proportionality - switched to race since there was only one region\n",
    "\n",
    "df['race'].value_counts(normalize=True).plot(kind='bar', title='Regional Proportionality')\n"
   ]
  }
 ],
 "metadata": {
  "kernelspec": {
   "display_name": "Python 3 (ipykernel)",
   "language": "python",
   "name": "python3"
  },
  "language_info": {
   "codemirror_mode": {
    "name": "ipython",
    "version": 3
   },
   "file_extension": ".py",
   "mimetype": "text/x-python",
   "name": "python",
   "nbconvert_exporter": "python",
   "pygments_lexer": "ipython3",
   "version": "3.11.3"
  }
 },
 "nbformat": 4,
 "nbformat_minor": 5
}
